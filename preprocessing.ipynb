{
 "cells": [
  {
   "cell_type": "code",
   "execution_count": null,
   "metadata": {},
   "outputs": [],
   "source": [
    "from describe import *\n",
    "import pandas as pd\n",
    "import numpy as np\n",
    "import matplotlib.pyplot as plt"
   ]
  },
  {
   "cell_type": "code",
   "execution_count": null,
   "metadata": {},
   "outputs": [],
   "source": [
    "#데이터 불러오기\n",
    "all_data = pd.read_csv(\"data/all_data.csv\")"
   ]
  },
  {
   "cell_type": "code",
   "execution_count": null,
   "metadata": {},
   "outputs": [],
   "source": [
    "# target 값이 비어있지 않은 데이터(Train data)\n",
    "train_data = all_data[all_data['target'].notnull()]\n",
    "train_data = train_data.drop(['Set ID'], axis=1)    \n",
    "\n",
    "# target 값이 비어있는 데이터(Test data)\n",
    "test_data = all_data[all_data['target'].isnull()]\n",
    "\n",
    "# 결과 확인\n",
    "print(f\"Train Data Shape: {train_data.shape}\")\n",
    "print(f\"Test Data Shape: {test_data.shape}\")"
   ]
  },
  {
   "cell_type": "code",
   "execution_count": null,
   "metadata": {},
   "outputs": [],
   "source": [
    "# 각 열의 결측값 개수 확인\n",
    "missing_values = train_data.isnull().sum()\n",
    "\n",
    "# 결측값 비율 계산\n",
    "missing_percentage = (missing_values / len(train_data)) * 100\n",
    "\n",
    "# 결과를 데이터프레임으로 변환하여 보기 편하게 출력\n",
    "missing_info = pd.DataFrame({'Missing Values': missing_values, 'Percentage (%)': missing_percentage})\n",
    "print(missing_info[missing_info['Missing Values'] > 0])"
   ]
  },
  {
   "cell_type": "code",
   "execution_count": null,
   "metadata": {},
   "outputs": [],
   "source": [
    "# train_data에서 결측값이 있는 행의 개수 확인\n",
    "missing_rows_count = train_data.isnull().any(axis=1).sum()\n",
    "\n",
    "print(f\"결측값이 있는 행의 개수: {missing_rows_count}\")"
   ]
  },
  {
   "cell_type": "code",
   "execution_count": null,
   "metadata": {},
   "outputs": [],
   "source": [
    "# 결측값이 있는 행 삭제\n",
    "train_data_cleaned = train_data.dropna()\n",
    "\n",
    "# 결과 확인\n",
    "print(f\"원래 Train Data Shape: {train_data.shape}\")\n",
    "print(f\"클린된 Train Data Shape: {train_data_cleaned.shape}\")\n",
    "\n",
    "\n",
    "\"\"\"\n",
    "결측값 처리 결과\n",
    "    결측값 발생 행의 개수는 1개였으므로 제거하였다.\n",
    "    결측값이 있는 행을 제거한 후의 Train Data Shape는 (40505, 60)이다.(Set ID 열도 제거하였음)\n",
    "\"\"\"\n"
   ]
  },
  {
   "cell_type": "code",
   "execution_count": null,
   "metadata": {},
   "outputs": [],
   "source": [
    "y = train_data_cleaned['target']\n",
    "train_data_cleaned = train_data_cleaned.drop(['target'], axis=1)"
   ]
  },
  {
   "cell_type": "markdown",
   "metadata": {},
   "source": [
    "범주형 데이터 인코딩 - 정규화"
   ]
  },
  {
   "cell_type": "code",
   "execution_count": null,
   "metadata": {},
   "outputs": [],
   "source": [
    "### 1단계: 범주형 데이터 인코딩\n",
    "from sklearn.preprocessing import LabelEncoder\n",
    "\n",
    "# 범주형 변수를 인코딩하는 함수\n",
    "def encode_categorical_features(data):\n",
    "    label_encoders = {}\n",
    "    for column in data.select_dtypes(include=['object']).columns:\n",
    "        le = LabelEncoder()\n",
    "        data[column] = le.fit_transform(data[column].astype(str))  # 문자열로 변환 후 인코딩\n",
    "        label_encoders[column] = le\n",
    "    return data, label_encoders\n",
    "\n",
    "# Train data 인코딩\n",
    "train_data_encoded, label_encoders = encode_categorical_features(train_data_cleaned) #이후 Inversion Transform 메서드를 사용하기 위해 label_encoders를 저장\n",
    "\n"
   ]
  },
  {
   "cell_type": "code",
   "execution_count": null,
   "metadata": {},
   "outputs": [],
   "source": [
    "train_data_encoded.shape"
   ]
  },
  {
   "cell_type": "code",
   "execution_count": null,
   "metadata": {},
   "outputs": [],
   "source": [
    "from sklearn.preprocessing import MinMaxScaler\n",
    "\n",
    "# 정규화 함수\n",
    "def normalize_data(data):\n",
    "    scaler = MinMaxScaler()\n",
    "    scaled_data = scaler.fit_transform(data.select_dtypes(include=[np.number]))  # 수치형 데이터만 정규화\n",
    "    scaled_df = pd.DataFrame(scaled_data, columns=data.select_dtypes(include=[np.number]).columns, index=data.index)\n",
    "    return scaled_df\n",
    "\n",
    "# 정규화 진행\n",
    "train_data_scaled = normalize_data(train_data_encoded)\n",
    "\n",
    "# 원본 데이터와 결합 (인코딩된 범주형 데이터는 함께 포함)\n",
    "train_data_final = pd.concat([train_data_scaled, train_data_encoded.select_dtypes(include=['object'])], axis=1)"
   ]
  },
  {
   "cell_type": "code",
   "execution_count": null,
   "metadata": {},
   "outputs": [],
   "source": [
    "train_data_final.shape"
   ]
  },
  {
   "cell_type": "code",
   "execution_count": null,
   "metadata": {},
   "outputs": [],
   "source": [
    "y.shape"
   ]
  },
  {
   "cell_type": "code",
   "execution_count": null,
   "metadata": {},
   "outputs": [],
   "source": [
    "#train_data_final csv 파일로 저장\n",
    "train_data_final.to_csv(\"data/train_data_final.csv\", index=False)\n",
    "y.to_csv(\"data/y.csv\", index=False)"
   ]
  }
 ],
 "metadata": {
  "kernelspec": {
   "display_name": "lg_capstone",
   "language": "python",
   "name": "python3"
  },
  "language_info": {
   "codemirror_mode": {
    "name": "ipython",
    "version": 3
   },
   "file_extension": ".py",
   "mimetype": "text/x-python",
   "name": "python",
   "nbconvert_exporter": "python",
   "pygments_lexer": "ipython3",
   "version": "3.12.0"
  }
 },
 "nbformat": 4,
 "nbformat_minor": 2
}
