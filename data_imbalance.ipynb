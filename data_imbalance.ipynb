{
 "cells": [
  {
   "cell_type": "code",
   "execution_count": null,
   "metadata": {},
   "outputs": [],
   "source": [
    "import pandas as pd\n",
    "import numpy as np\n",
    "import matplotlib.pyplot as plt\n",
    "import seaborn as sns\n",
    "from sklearn.preprocessing import LabelEncoder\n",
    "from sklearn.preprocessing import MinMaxScaler\n",
    "from sklearn.metrics import f1_score\n",
    "from sklearn.model_selection import train_test_split\n",
    "\n",
    "\n"
   ]
  },
  {
   "cell_type": "code",
   "execution_count": null,
   "metadata": {},
   "outputs": [],
   "source": [
    "# 범주형 변수를 인코딩하는 함수\n",
    "def encode_categorical_features(data):\n",
    "    label_encoders = {}\n",
    "    for column in data.select_dtypes(include=['object']).columns:\n",
    "        le = LabelEncoder()\n",
    "        data[column] = le.fit_transform(data[column].astype(str))  # 문자열로 변환 후 인코딩\n",
    "        label_encoders[column] = le\n",
    "    return data, label_encoders\n",
    "\n",
    "\n",
    "# 정규화 함수\n",
    "def normalize_data(data):\n",
    "    scaler = MinMaxScaler()\n",
    "    scaled_data = scaler.fit_transform(data.select_dtypes(include=[np.number]))  # 수치형 데이터만 정규화\n",
    "    scaled_df = pd.DataFrame(scaled_data, columns=data.select_dtypes(include=[np.number]).columns, index=data.index)\n",
    "    return scaled_df"
   ]
  },
  {
   "cell_type": "code",
   "execution_count": null,
   "metadata": {},
   "outputs": [],
   "source": [
    "df = pd.read_csv('./all_data.csv')"
   ]
  },
  {
   "cell_type": "code",
   "execution_count": 48,
   "metadata": {},
   "outputs": [],
   "source": [
    "# target 변수가 nan인 행을 추출하여 새로운 데이터프레임 df_test 만들기\n",
    "df_test = df[df['target'].isnull()]\n",
    "df_test = df_test.drop('target', axis=1)\n",
    "\n",
    "#범주형 데이터 인코딩, 정규화\n",
    "df_test_encoded, label_encoders = encode_categorical_features(df_test)\n",
    "df_test_final = normalize_data(df_test_encoded)"
   ]
  },
  {
   "cell_type": "code",
   "execution_count": null,
   "metadata": {},
   "outputs": [],
   "source": [
    "#target이 \"AbNormal\"인 데이터만 추출\n",
    "df_abnormal = df[df['target'] == 'AbNormal']\n",
    "\n",
    "#target이 \"Normal\"인 데이터만 추출\n",
    "df_normal = df[df['target'] == 'Normal']\n",
    "\n",
    "#2350개만 df_normal에서 추출\n",
    "num_of_abnormal = len(df_abnormal)\n",
    "df_normal = df_normal.sample(n=num_of_abnormal, random_state=1)\n",
    "\n",
    "#df_normal과 df_abnormal을 합침\n",
    "df = pd.concat([df_normal, df_abnormal])\n",
    "\n",
    "# 데이터프레임에서 특성과 레이블 나누기\n",
    "X = df.drop('target', axis=1)\n",
    "y = df['target']\n",
    "\n",
    "#범주형 데이터 인코딩, 정규화\n",
    "df_encoded, label_encoders = encode_categorical_features(X)\n",
    "df_normalized = normalize_data(df_encoded)\n",
    "\n",
    "X = df_normalized\n",
    "\n",
    "# Train-test split\n",
    "X_train, X_test, y_train, y_test = train_test_split(X, y, test_size=0.2, random_state=42)"
   ]
  },
  {
   "cell_type": "code",
   "execution_count": null,
   "metadata": {},
   "outputs": [],
   "source": [
    "df_final = df_normalized"
   ]
  },
  {
   "cell_type": "markdown",
   "metadata": {},
   "source": [
    "## 모델 학습"
   ]
  },
  {
   "cell_type": "markdown",
   "metadata": {},
   "source": [
    "## RF"
   ]
  },
  {
   "cell_type": "code",
   "execution_count": null,
   "metadata": {},
   "outputs": [],
   "source": [
    "from sklearn.ensemble import RandomForestClassifier\n",
    "from sklearn.metrics import f1_score, classification_report, confusion_matrix\n",
    "\n",
    "# 랜덤 포레스트 모델 초기화\n",
    "rf_model = RandomForestClassifier(random_state=42)\n",
    "\n",
    "# 모델 학습\n",
    "rf_model.fit(X_train, y_train)\n",
    "\n",
    "# 테스트 세트에서 예측\n",
    "y_pred = rf_model.predict(X_test)\n",
    "\n",
    "# F1-score 계산\n",
    "f1 = f1_score(y_test, y_pred, average='macro')  # 평균 방식은 'macro', 'micro', 'weighted' 중 선택 가능\n",
    "\n",
    "# 모델 성능 평가\n",
    "conf_matrix = confusion_matrix(y_test, y_pred)\n",
    "class_report = classification_report(y_test, y_pred)\n",
    "\n",
    "# 성능 결과 출력\n",
    "print(f\"F1 Score: {f1:.4f}\")\n",
    "print(\"Confusion Matrix:\")\n",
    "print(conf_matrix)\n",
    "print(\"Classification Report:\")\n",
    "print(class_report)"
   ]
  },
  {
   "cell_type": "code",
   "execution_count": null,
   "metadata": {},
   "outputs": [],
   "source": [
    "from sklearn.model_selection import GridSearchCV\n",
    "from sklearn.metrics import f1_score, classification_report, confusion_matrix\n",
    "\n",
    "# 랜덤 포레스트 모델 초기화\n",
    "rf_model = RandomForestClassifier(random_state=42)\n",
    "\n",
    "# 튜닝할 하이퍼파라미터 그리드 정의\n",
    "param_grid = {\n",
    "    'n_estimators': [110, 130, 200],\n",
    "    'max_depth': [None],\n",
    "    'min_samples_split': [10],\n",
    "    'min_samples_leaf': [1]\n",
    "}\n",
    "\n",
    "# GridSearchCV 초기화\n",
    "grid_search = GridSearchCV(estimator=rf_model, param_grid=param_grid, \n",
    "                           scoring='f1_weighted', cv=5, verbose=1, n_jobs=-1)\n",
    "\n",
    "# 하이퍼파라미터 튜닝 수행\n",
    "grid_search.fit(X_train, y_train)\n",
    "\n",
    "# 최적의 하이퍼파라미터 및 모델\n",
    "best_rf_model = grid_search.best_estimator_\n",
    "print(f\"Best Hyperparameters: {grid_search.best_params_}\")\n",
    "\n",
    "# 테스트 세트에서 예측\n",
    "y_pred = best_rf_model.predict(X_test)\n",
    "\n",
    "# F1-score 계산\n",
    "f1 = f1_score(y_test, y_pred, average='weighted')\n",
    "\n",
    "# 모델 성능 평가\n",
    "conf_matrix = confusion_matrix(y_test, y_pred)\n",
    "class_report = classification_report(y_test, y_pred)\n",
    "\n",
    "# 성능 결과 출력\n",
    "print(f\"F1 Score: {f1:.4f}\")\n",
    "print(\"Confusion Matrix:\")\n",
    "print(conf_matrix)\n",
    "print(\"Classification Report:\")\n",
    "print(class_report)"
   ]
  },
  {
   "cell_type": "code",
   "execution_count": 51,
   "metadata": {},
   "outputs": [],
   "source": [
    "y_pred_final = grid_search.best_estimator_.predict(df_test_final)"
   ]
  },
  {
   "cell_type": "code",
   "execution_count": 52,
   "metadata": {},
   "outputs": [
    {
     "data": {
      "text/plain": [
       "array([0., 1., 0., ..., 0., 0., 1.])"
      ]
     },
     "execution_count": 52,
     "metadata": {},
     "output_type": "execute_result"
    }
   ],
   "source": [
    "y_pred_final"
   ]
  },
  {
   "cell_type": "code",
   "execution_count": 53,
   "metadata": {},
   "outputs": [],
   "source": [
    "submission = pd.read_csv('./data/submission.csv')"
   ]
  },
  {
   "cell_type": "code",
   "execution_count": 54,
   "metadata": {},
   "outputs": [],
   "source": [
    "submission['target'] = y_pred_final\n",
    "\n",
    "submission.to_csv('./data_submission/submission2.csv', index=False)"
   ]
  }
 ],
 "metadata": {
  "kernelspec": {
   "display_name": "lg_capstone",
   "language": "python",
   "name": "python3"
  },
  "language_info": {
   "codemirror_mode": {
    "name": "ipython",
    "version": 3
   },
   "file_extension": ".py",
   "mimetype": "text/x-python",
   "name": "python",
   "nbconvert_exporter": "python",
   "pygments_lexer": "ipython3",
   "version": "3.12.0"
  }
 },
 "nbformat": 4,
 "nbformat_minor": 2
}
