{
 "cells": [
  {
   "cell_type": "code",
   "execution_count": 17,
   "metadata": {},
   "outputs": [],
   "source": [
    "import torch\n",
    "import numpy as np\n",
    "import matplotlib.pyplot as plt\n",
    "import pandas as pd\n",
    "import torchvision.transforms as transforms\n",
    "\n",
    "from torchvision.datasets import MNIST\n",
    "from torch.utils.data import DataLoader, TensorDataset\n",
    "\n",
    "from torch import nn"
   ]
  },
  {
   "cell_type": "code",
   "execution_count": 18,
   "metadata": {},
   "outputs": [
    {
     "name": "stdout",
     "output_type": "stream",
     "text": [
      "cuda\n"
     ]
    }
   ],
   "source": [
    "if torch.cuda.is_available():\n",
    "    device = torch.device(\"cuda\")\n",
    "else:\n",
    "    device = torch.device(\"cpu\")\n",
    "print(device)"
   ]
  },
  {
   "cell_type": "markdown",
   "metadata": {},
   "source": [
    "## 데이터셋 불러오기"
   ]
  },
  {
   "cell_type": "code",
   "execution_count": 35,
   "metadata": {},
   "outputs": [
    {
     "name": "stderr",
     "output_type": "stream",
     "text": [
      "C:\\Users\\jdh25\\AppData\\Local\\Temp\\ipykernel_20032\\3332094046.py:1: DtypeWarning: Columns (32,33) have mixed types. Specify dtype option on import or set low_memory=False.\n",
      "  df = pd.read_csv(\"all_data.csv\")\n"
     ]
    }
   ],
   "source": [
    "df = pd.read_csv(\"all_data.csv\")\n",
    "\n",
    "# target 열에 데이터가 있으면 train, 없으면 final 나누기\n",
    "train = df[df.target.notnull()]\n",
    "final = df[df.target.isnull()]"
   ]
  },
  {
   "cell_type": "code",
   "execution_count": 38,
   "metadata": {},
   "outputs": [],
   "source": [
    "from sklearn.preprocessing import LabelEncoder\n",
    "\n",
    "# 범주형 변수를 인코딩하는 함수\n",
    "def encode_categorical_features(data):\n",
    "    label_encoders = {}\n",
    "    for column in data.select_dtypes(include=['object']).columns:\n",
    "        le = LabelEncoder()\n",
    "        data[column] = le.fit_transform(data[column].astype(str))  # 문자열로 변환 후 인코딩\n",
    "        label_encoders[column] = le\n",
    "    return data, label_encoders"
   ]
  },
  {
   "cell_type": "code",
   "execution_count": 40,
   "metadata": {},
   "outputs": [],
   "source": [
    "#test and split 임포트\n",
    "from sklearn.model_selection import train_test_split\n",
    "\n",
    "X = train.drop('target', axis=1)\n",
    "y = train['target']\n",
    "\n",
    "#데이터셋 분리(학습X, 테스트X, 학습Y, 테스트Y)\n",
    "X_train, X_test, y_train, y_test = train_test_split(X, y, test_size=0.2, random_state=42)\n",
    "\n",
    "\n",
    "X_train, _ = encode_categorical_features(X_train)\n",
    "X_test, _ = encode_categorical_features(X_test)\n",
    "\n",
    "# Prepare data for DataLoader\n",
    "X_train = torch.tensor(X_train.values, dtype=torch.float32)\n",
    "\n",
    "y_temp = y_train.values\n",
    "y_temp = np.where(y_temp == \"Normal\", 0, np.where(y_temp == \"AbNormal\", 1, -1))\n",
    "y_train = torch.tensor(y_temp, dtype=torch.long)\n",
    "\n",
    "X_test = torch.tensor(X_test.values, dtype=torch.float32)\n",
    "\n",
    "y_temp = y_test.values\n",
    "y_temp = np.where(y_temp == \"Normal\", 0, np.where(y_temp == \"AbNormal\", 1, -1))\n",
    "y_test = torch.tensor(y_temp, dtype=torch.long)\n",
    "\n",
    "train_dataset = TensorDataset(X_train, y_train)\n",
    "test_dataset = TensorDataset(X_test, y_test)"
   ]
  },
  {
   "cell_type": "code",
   "execution_count": 41,
   "metadata": {},
   "outputs": [],
   "source": [
    "#데이터로더 만들기\n",
    "train_loader = DataLoader(dataset=train_dataset, batch_size=128, shuffle=True)\n",
    "test_loader = DataLoader(dataset=test_dataset, batch_size=128, shuffle=False)"
   ]
  },
  {
   "cell_type": "markdown",
   "metadata": {},
   "source": [
    "## Fully Connected Model"
   ]
  },
  {
   "cell_type": "code",
   "execution_count": 50,
   "metadata": {},
   "outputs": [],
   "source": [
    "# Model definition\n",
    "model = nn.Sequential(\n",
    "    nn.Linear(in_features=X_train.shape[1], out_features=256), \n",
    "    nn.ReLU(),\n",
    "    nn.Linear(in_features=256, out_features=2)  # Assuming binary classification\n",
    "    #nn.Softmax() #꼭 해줘야함. 확률값으로 바꿔주는 것\n",
    ")"
   ]
  },
  {
   "cell_type": "code",
   "execution_count": 51,
   "metadata": {},
   "outputs": [
    {
     "data": {
      "text/plain": [
       "Sequential(\n",
       "  (0): Linear(in_features=47, out_features=256, bias=True)\n",
       "  (1): ReLU()\n",
       "  (2): Linear(in_features=256, out_features=2, bias=True)\n",
       ")"
      ]
     },
     "execution_count": 51,
     "metadata": {},
     "output_type": "execute_result"
    }
   ],
   "source": [
    "# 만든 모델을 device(cuda)로 전달하자\n",
    "#device는 위에 cuda, cpu 부분 참고\n",
    "#연산을 GPU의 VRAM으로 모델을 보내줌 데이터는 아직 안보냄 후에 배치로 데이터를 보낼 것이다.\n",
    "model.to(device)"
   ]
  },
  {
   "cell_type": "markdown",
   "metadata": {},
   "source": [
    "### 실제 학습이 일어나는 train() 함수"
   ]
  },
  {
   "cell_type": "code",
   "execution_count": 52,
   "metadata": {},
   "outputs": [],
   "source": [
    "from torch import optim\n",
    "import time"
   ]
  },
  {
   "cell_type": "code",
   "execution_count": 53,
   "metadata": {},
   "outputs": [],
   "source": [
    "def train(model, train_loader):\n",
    "    epochs = 10\n",
    "    optimizer = optim.Adam(model.parameters(), lr=0.0001)\n",
    "    criterion = nn.CrossEntropyLoss()\n",
    "    \n",
    "    start_time = time.time()\n",
    "    for epoch in range(epochs):\n",
    "        model.train()\n",
    "        print(f'epochs:{epoch + 1} / {epochs}')\n",
    "        \n",
    "        for x_t, y_t in train_loader:\n",
    "            x_t = x_t.to(device)\n",
    "            y_t = y_t.to(device)\n",
    "            \n",
    "            pred = model(x_t)\n",
    "            loss = criterion(pred, y_t)\n",
    "\n",
    "            optimizer.zero_grad()\n",
    "            loss.backward()\n",
    "            optimizer.step()\n",
    "\n",
    "        model.eval()\n",
    "        correct = 0\n",
    "        # Evaluate model on test_loader\n",
    "        for xx, yy in test_loader:  \n",
    "            xx = xx.to(device)\n",
    "            yy = yy.to(device)\n",
    "            pred = model(xx)\n",
    "            _, predicted = torch.max(pred, 1)\n",
    "            correct += predicted.eq(yy.data).sum()\n",
    "\n",
    "        print(f'test_accuracy: {(100. * correct / len(test_loader.dataset)).item()}')\n",
    "\n",
    "    torch.cuda.synchronize()\n",
    "    end_time = time.time()\n",
    "    elapsed_time = end_time - start_time\n",
    "    print(f'Total training time: {elapsed_time // 60} minutes {elapsed_time % 60} seconds.')"
   ]
  },
  {
   "cell_type": "code",
   "execution_count": 54,
   "metadata": {},
   "outputs": [
    {
     "name": "stdout",
     "output_type": "stream",
     "text": [
      "epochs:1 / 10\n",
      "test_accuracy: 88.52135467529297\n",
      "epochs:2 / 10\n",
      "test_accuracy: 92.98938751220703\n",
      "epochs:3 / 10\n",
      "test_accuracy: 45.71710968017578\n",
      "epochs:4 / 10\n",
      "test_accuracy: 94.27302551269531\n",
      "epochs:5 / 10\n",
      "test_accuracy: 94.32239532470703\n",
      "epochs:6 / 10\n",
      "test_accuracy: 94.26068115234375\n",
      "epochs:7 / 10\n",
      "test_accuracy: 94.26068115234375\n",
      "epochs:8 / 10\n",
      "test_accuracy: 94.23599243164062\n",
      "epochs:9 / 10\n",
      "test_accuracy: 94.33473205566406\n",
      "epochs:10 / 10\n",
      "test_accuracy: 94.26068115234375\n",
      "Total training time: 0.0 minutes 8.765120029449463 seconds.\n"
     ]
    }
   ],
   "source": [
    "train(model, train_loader)"
   ]
  },
  {
   "cell_type": "code",
   "execution_count": null,
   "metadata": {},
   "outputs": [],
   "source": []
  }
 ],
 "metadata": {
  "kernelspec": {
   "display_name": "lg_capstone",
   "language": "python",
   "name": "python3"
  },
  "language_info": {
   "codemirror_mode": {
    "name": "ipython",
    "version": 3
   },
   "file_extension": ".py",
   "mimetype": "text/x-python",
   "name": "python",
   "nbconvert_exporter": "python",
   "pygments_lexer": "ipython3",
   "version": "3.12.0"
  }
 },
 "nbformat": 4,
 "nbformat_minor": 2
}
