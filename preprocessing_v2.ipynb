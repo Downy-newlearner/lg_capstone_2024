{
 "cells": [
  {
   "cell_type": "code",
   "execution_count": 1,
   "metadata": {},
   "outputs": [],
   "source": [
    "from lg_capstone_2024.describe_module import *\n",
    "import pandas as pd\n",
    "import numpy as np\n",
    "import matplotlib.pyplot as plt\n",
    "from sklearn.preprocessing import LabelEncoder\n",
    "from sklearn.preprocessing import MinMaxScaler"
   ]
  },
  {
   "cell_type": "code",
   "execution_count": 2,
   "metadata": {},
   "outputs": [],
   "source": [
    "# 범주형 변수를 인코딩하는 함수\n",
    "def encode_categorical_features(data):\n",
    "    label_encoders = {}\n",
    "    for column in data.select_dtypes(include=['object']).columns:\n",
    "        le = LabelEncoder()\n",
    "        data[column] = le.fit_transform(data[column].astype(str))  # 문자열로 변환 후 인코딩\n",
    "        label_encoders[column] = le\n",
    "    return data, label_encoders\n",
    "\n",
    "\n",
    "# 정규화 함수\n",
    "def normalize_data(data):\n",
    "    scaler = MinMaxScaler()\n",
    "    scaled_data = scaler.fit_transform(data.select_dtypes(include=[np.number]))  # 수치형 데이터만 정규화\n",
    "    scaled_df = pd.DataFrame(scaled_data, columns=data.select_dtypes(include=[np.number]).columns, index=data.index)\n",
    "    return scaled_df"
   ]
  },
  {
   "cell_type": "code",
   "execution_count": 3,
   "metadata": {},
   "outputs": [
    {
     "name": "stderr",
     "output_type": "stream",
     "text": [
      "C:\\Users\\user\\AppData\\Local\\Temp\\ipykernel_20980\\978275038.py:1: DtypeWarning: Columns (38,39) have mixed types. Specify dtype option on import or set low_memory=False.\n",
      "  all_data = pd.read_csv(\"data/all_data.csv\")\n"
     ]
    }
   ],
   "source": [
    "all_data = pd.read_csv(\"data/all_data.csv\")"
   ]
  },
  {
   "cell_type": "code",
   "execution_count": 4,
   "metadata": {},
   "outputs": [],
   "source": [
    "# target 값이 비어있지 않은 데이터(Train data)\n",
    "train_data = all_data[all_data['target'].notnull()]\n",
    "train_data = train_data.drop(['Set ID'], axis=1)    \n",
    "# target 값이 비어있는 데이터(Test data)\n",
    "test_data = all_data[all_data['target'].isnull()]\n",
    "test_data = test_data.drop(['Set ID'], axis=1)    "
   ]
  },
  {
   "cell_type": "code",
   "execution_count": 5,
   "metadata": {},
   "outputs": [],
   "source": [
    "# True -> Train data, False -> Test data\n",
    "train_or_test = False"
   ]
  },
  {
   "cell_type": "code",
   "execution_count": 10,
   "metadata": {},
   "outputs": [
    {
     "name": "stdout",
     "output_type": "stream",
     "text": [
      "Train Data Shape: (40506, 60)\n",
      "Test Data Shape: (17361, 60)\n"
     ]
    }
   ],
   "source": [
    "# 결과 확인\n",
    "print(f\"Train Data Shape: {train_data.shape}\")\n",
    "print(f\"Test Data Shape: {test_data.shape}\")"
   ]
  },
  {
   "cell_type": "code",
   "execution_count": 12,
   "metadata": {},
   "outputs": [
    {
     "name": "stdout",
     "output_type": "stream",
     "text": [
      "(17361, 59)\n"
     ]
    }
   ],
   "source": [
    "# 결측값이 있는 행 삭제\n",
    "#test는 결측값이 있는 행이 없음\n",
    "if(train_or_test):\n",
    "    train_data_cleaned = train_data.dropna()\n",
    "\n",
    "\n",
    "# target 값 추출\n",
    "if(train_or_test):\n",
    "    y = train_data_cleaned['target']\n",
    "    train_data_cleaned = train_data_cleaned.drop(['target'], axis=1)\n",
    "else:\n",
    "    test_data_cleaned = test_data.drop(['target'], axis=1)\n"
   ]
  },
  {
   "cell_type": "code",
   "execution_count": 13,
   "metadata": {},
   "outputs": [
    {
     "name": "stdout",
     "output_type": "stream",
     "text": [
      "(17361, 59)\n"
     ]
    }
   ],
   "source": [
    "### 1단계: 범주형 데이터 인코딩\n",
    "if(train_or_test):\n",
    "    train_data_encoded, label_encoders = encode_categorical_features(train_data_cleaned) #이후 Inversion Transform 메서드를 사용하기 위해 label_encoders를 저장\n",
    "else:\n",
    "    test_data_encoded, label_encoders = encode_categorical_features(test_data_cleaned) #이후 Inversion Transform 메서드를 사용하기 위해 label_encoders를 저장\n",
    "    print(test_data_encoded.shape)\n",
    "\n",
    "# 정규화 진행\n",
    "if(train_or_test):\n",
    "    train_data_scaled = normalize_data(train_data_encoded)\n",
    "else:\n",
    "    test_data_scaled = normalize_data(test_data_encoded)\n",
    "\n",
    "# 원본 데이터와 결합 (인코딩된 범주형 데이터는 함께 포함)\n",
    "if(train_or_test):\n",
    "    train_data_final = pd.concat([train_data_scaled, train_data_encoded.select_dtypes(include=['object'])], axis=1)\n",
    "else:\n",
    "    test_data_final = pd.concat([test_data_scaled, test_data_encoded.select_dtypes(include=['object'])], axis=1)"
   ]
  },
  {
   "cell_type": "code",
   "execution_count": 14,
   "metadata": {},
   "outputs": [],
   "source": [
    "# 데이터 저장하기\n",
    "if(train_or_test):\n",
    "    #train_data_final csv 파일로 저장\n",
    "    train_data_final.to_csv(\"data/train_data_final.csv\", index=False)\n",
    "    y.to_csv(\"data/train_y.csv\", index=False)\n",
    "else:\n",
    "    #test_data_final csv 파일로 저장\n",
    "    test_data_final.to_csv(\"data/test_data_final.csv\", index=False)"
   ]
  }
 ],
 "metadata": {
  "kernelspec": {
   "display_name": "lg_capstone",
   "language": "python",
   "name": "python3"
  },
  "language_info": {
   "codemirror_mode": {
    "name": "ipython",
    "version": 3
   },
   "file_extension": ".py",
   "mimetype": "text/x-python",
   "name": "python",
   "nbconvert_exporter": "python",
   "pygments_lexer": "ipython3",
   "version": "3.12.0"
  }
 },
 "nbformat": 4,
 "nbformat_minor": 2
}
